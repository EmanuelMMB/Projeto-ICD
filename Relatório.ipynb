{
 "cells": [
  {
   "cell_type": "markdown",
   "metadata": {},
   "source": [
    "#Relatório - Acidentes de Trânsito em BRs.\n",
    "\n",
    "##INTEGRANTES\n",
    "\n",
    "Antonio Monteiro da Nóbrega Neto — 20230021330\n",
    "\n",
    "Emanuel Messias Melquíades Batista — 20230021475\n",
    "\n",
    "Fábio Soares de Lima - 20220128745\n",
    "\n",
    "Natã Igor Pontes Teixeira Alcântara - 20220007258"
   ]
  },
  {
   "cell_type": "markdown",
   "metadata": {},
   "source": [
    "##Introdução"
   ]
  },
  {
   "cell_type": "markdown",
   "metadata": {},
   "source": [
    "##Dados Usados"
   ]
  },
  {
   "cell_type": "markdown",
   "metadata": {},
   "source": [
    "##Perguntas"
   ]
  },
  {
   "cell_type": "markdown",
   "metadata": {},
   "source": [
    "##Conclusão"
   ]
  }
 ],
 "metadata": {
  "language_info": {
   "name": "python"
  }
 },
 "nbformat": 4,
 "nbformat_minor": 2
}
