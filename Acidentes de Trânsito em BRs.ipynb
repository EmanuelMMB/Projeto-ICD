{
 "cells": [
  {
   "cell_type": "code",
   "execution_count": 54,
   "id": "740efde6-6351-4bcd-a245-03cfe2e2952b",
   "metadata": {},
   "outputs": [],
   "source": [
    "# Importando o Pandas, o Dataset, o Seaborn, CSV pra ler o Dataset, e o Numpy. -- EM.\n",
    "import pandas as pd\n",
    "import csv\n",
    "import matplotlib.pyplot as plt\n",
    "import numpy as np\n",
    "import seaborn as sns\n",
    "\n",
    "dataset = pd.read_csv(\"https://raw.githubusercontent.com/EmanuelMMB/Projeto-ICD/main/datatranPB.csv\", sep =\";\")"
   ]
  },
  {
   "cell_type": "code",
   "execution_count": 55,
   "id": "efd1b7d7",
   "metadata": {},
   "outputs": [
    {
     "data": {
      "text/html": [
       "<div>\n",
       "<style scoped>\n",
       "    .dataframe tbody tr th:only-of-type {\n",
       "        vertical-align: middle;\n",
       "    }\n",
       "\n",
       "    .dataframe tbody tr th {\n",
       "        vertical-align: top;\n",
       "    }\n",
       "\n",
       "    .dataframe thead th {\n",
       "        text-align: right;\n",
       "    }\n",
       "</style>\n",
       "<table border=\"1\" class=\"dataframe\">\n",
       "  <thead>\n",
       "    <tr style=\"text-align: right;\">\n",
       "      <th></th>\n",
       "      <th>Nome da Origem</th>\n",
       "      <th>id</th>\n",
       "      <th>data_inversa</th>\n",
       "      <th>dia_semana</th>\n",
       "      <th>horario</th>\n",
       "      <th>uf</th>\n",
       "      <th>br</th>\n",
       "      <th>km</th>\n",
       "      <th>municipio</th>\n",
       "      <th>causa_acidente</th>\n",
       "      <th>...</th>\n",
       "      <th>uso_solo</th>\n",
       "      <th>ano</th>\n",
       "      <th>pessoas</th>\n",
       "      <th>mortos</th>\n",
       "      <th>feridos_leves</th>\n",
       "      <th>feridos_graves</th>\n",
       "      <th>ilesos</th>\n",
       "      <th>ignorados</th>\n",
       "      <th>feridos</th>\n",
       "      <th>veiculos</th>\n",
       "    </tr>\n",
       "  </thead>\n",
       "  <tbody>\n",
       "    <tr>\n",
       "      <th>0</th>\n",
       "      <td>datatran2013.csv</td>\n",
       "      <td>1228868</td>\n",
       "      <td>01/01/2013</td>\n",
       "      <td>Terça</td>\n",
       "      <td>00:15:00</td>\n",
       "      <td>PB</td>\n",
       "      <td>101</td>\n",
       "      <td>929</td>\n",
       "      <td>JOAO PESSOA</td>\n",
       "      <td>Outras</td>\n",
       "      <td>...</td>\n",
       "      <td>Urbano</td>\n",
       "      <td>2013.0</td>\n",
       "      <td>1</td>\n",
       "      <td>0</td>\n",
       "      <td>0</td>\n",
       "      <td>0</td>\n",
       "      <td>1</td>\n",
       "      <td>0</td>\n",
       "      <td>0</td>\n",
       "      <td>1</td>\n",
       "    </tr>\n",
       "    <tr>\n",
       "      <th>1</th>\n",
       "      <td>datatran2013.csv</td>\n",
       "      <td>1228898</td>\n",
       "      <td>01/01/2013</td>\n",
       "      <td>Terça</td>\n",
       "      <td>03:30:00</td>\n",
       "      <td>PB</td>\n",
       "      <td>230</td>\n",
       "      <td>2341</td>\n",
       "      <td>JUAZEIRINHO</td>\n",
       "      <td>Ingestão de álcool</td>\n",
       "      <td>...</td>\n",
       "      <td>Rural</td>\n",
       "      <td>2013.0</td>\n",
       "      <td>1</td>\n",
       "      <td>0</td>\n",
       "      <td>0</td>\n",
       "      <td>1</td>\n",
       "      <td>0</td>\n",
       "      <td>0</td>\n",
       "      <td>1</td>\n",
       "      <td>1</td>\n",
       "    </tr>\n",
       "    <tr>\n",
       "      <th>2</th>\n",
       "      <td>datatran2013.csv</td>\n",
       "      <td>1228977</td>\n",
       "      <td>01/01/2013</td>\n",
       "      <td>Terça</td>\n",
       "      <td>08:20:00</td>\n",
       "      <td>PB</td>\n",
       "      <td>101</td>\n",
       "      <td>89</td>\n",
       "      <td>JOAO PESSOA</td>\n",
       "      <td>Outras</td>\n",
       "      <td>...</td>\n",
       "      <td>Urbano</td>\n",
       "      <td>2013.0</td>\n",
       "      <td>1</td>\n",
       "      <td>0</td>\n",
       "      <td>0</td>\n",
       "      <td>0</td>\n",
       "      <td>1</td>\n",
       "      <td>0</td>\n",
       "      <td>0</td>\n",
       "      <td>1</td>\n",
       "    </tr>\n",
       "    <tr>\n",
       "      <th>3</th>\n",
       "      <td>datatran2013.csv</td>\n",
       "      <td>1229043</td>\n",
       "      <td>01/01/2013</td>\n",
       "      <td>Terça</td>\n",
       "      <td>02:45:00</td>\n",
       "      <td>PB</td>\n",
       "      <td>230</td>\n",
       "      <td>74</td>\n",
       "      <td>CABEDELO</td>\n",
       "      <td>Falta de atenção</td>\n",
       "      <td>...</td>\n",
       "      <td>Urbano</td>\n",
       "      <td>2013.0</td>\n",
       "      <td>2</td>\n",
       "      <td>0</td>\n",
       "      <td>0</td>\n",
       "      <td>0</td>\n",
       "      <td>2</td>\n",
       "      <td>0</td>\n",
       "      <td>0</td>\n",
       "      <td>2</td>\n",
       "    </tr>\n",
       "    <tr>\n",
       "      <th>4</th>\n",
       "      <td>datatran2013.csv</td>\n",
       "      <td>1229088</td>\n",
       "      <td>01/01/2013</td>\n",
       "      <td>Terça</td>\n",
       "      <td>07:20:00</td>\n",
       "      <td>PB</td>\n",
       "      <td>230</td>\n",
       "      <td>245</td>\n",
       "      <td>JOAO PESSOA</td>\n",
       "      <td>Outras</td>\n",
       "      <td>...</td>\n",
       "      <td>Urbano</td>\n",
       "      <td>2013.0</td>\n",
       "      <td>2</td>\n",
       "      <td>1</td>\n",
       "      <td>0</td>\n",
       "      <td>1</td>\n",
       "      <td>0</td>\n",
       "      <td>0</td>\n",
       "      <td>1</td>\n",
       "      <td>1</td>\n",
       "    </tr>\n",
       "  </tbody>\n",
       "</table>\n",
       "<p>5 rows × 27 columns</p>\n",
       "</div>"
      ],
      "text/plain": [
       "     Nome da Origem       id data_inversa dia_semana   horario  uf   br    km  \\\n",
       "0  datatran2013.csv  1228868   01/01/2013      Terça  00:15:00  PB  101   929   \n",
       "1  datatran2013.csv  1228898   01/01/2013      Terça  03:30:00  PB  230  2341   \n",
       "2  datatran2013.csv  1228977   01/01/2013      Terça  08:20:00  PB  101    89   \n",
       "3  datatran2013.csv  1229043   01/01/2013      Terça  02:45:00  PB  230    74   \n",
       "4  datatran2013.csv  1229088   01/01/2013      Terça  07:20:00  PB  230   245   \n",
       "\n",
       "     municipio      causa_acidente  ... uso_solo     ano pessoas mortos  \\\n",
       "0  JOAO PESSOA              Outras  ...   Urbano  2013.0       1      0   \n",
       "1  JUAZEIRINHO  Ingestão de álcool  ...    Rural  2013.0       1      0   \n",
       "2  JOAO PESSOA              Outras  ...   Urbano  2013.0       1      0   \n",
       "3     CABEDELO    Falta de atenção  ...   Urbano  2013.0       2      0   \n",
       "4  JOAO PESSOA              Outras  ...   Urbano  2013.0       2      1   \n",
       "\n",
       "  feridos_leves feridos_graves ilesos ignorados  feridos  veiculos  \n",
       "0             0              0      1         0        0         1  \n",
       "1             0              1      0         0        1         1  \n",
       "2             0              0      1         0        0         1  \n",
       "3             0              0      2         0        0         2  \n",
       "4             0              1      0         0        1         1  \n",
       "\n",
       "[5 rows x 27 columns]"
      ]
     },
     "execution_count": 55,
     "metadata": {},
     "output_type": "execute_result"
    }
   ],
   "source": [
    "dataset.head()"
   ]
  },
  {
   "cell_type": "code",
   "execution_count": 56,
   "id": "fb597aaf",
   "metadata": {},
   "outputs": [
    {
     "data": {
      "text/html": [
       "<div>\n",
       "<style scoped>\n",
       "    .dataframe tbody tr th:only-of-type {\n",
       "        vertical-align: middle;\n",
       "    }\n",
       "\n",
       "    .dataframe tbody tr th {\n",
       "        vertical-align: top;\n",
       "    }\n",
       "\n",
       "    .dataframe thead th {\n",
       "        text-align: right;\n",
       "    }\n",
       "</style>\n",
       "<table border=\"1\" class=\"dataframe\">\n",
       "  <thead>\n",
       "    <tr style=\"text-align: right;\">\n",
       "      <th></th>\n",
       "      <th>km</th>\n",
       "      <th>pessoas</th>\n",
       "      <th>mortos</th>\n",
       "      <th>feridos_leves</th>\n",
       "      <th>feridos_graves</th>\n",
       "      <th>ilesos</th>\n",
       "      <th>feridos</th>\n",
       "      <th>veiculos</th>\n",
       "    </tr>\n",
       "  </thead>\n",
       "  <tbody>\n",
       "    <tr>\n",
       "      <th>count</th>\n",
       "      <td>23122.000000</td>\n",
       "      <td>23122.000000</td>\n",
       "      <td>23122.000000</td>\n",
       "      <td>23122.000000</td>\n",
       "      <td>23122.000000</td>\n",
       "      <td>23122.000000</td>\n",
       "      <td>23122.000000</td>\n",
       "      <td>23122.000000</td>\n",
       "    </tr>\n",
       "    <tr>\n",
       "      <th>mean</th>\n",
       "      <td>366.248594</td>\n",
       "      <td>2.245567</td>\n",
       "      <td>0.066430</td>\n",
       "      <td>0.622611</td>\n",
       "      <td>0.252054</td>\n",
       "      <td>1.100337</td>\n",
       "      <td>0.874665</td>\n",
       "      <td>1.783496</td>\n",
       "    </tr>\n",
       "    <tr>\n",
       "      <th>std</th>\n",
       "      <td>750.126757</td>\n",
       "      <td>1.571689</td>\n",
       "      <td>0.286057</td>\n",
       "      <td>0.925467</td>\n",
       "      <td>0.554734</td>\n",
       "      <td>1.301708</td>\n",
       "      <td>1.051356</td>\n",
       "      <td>0.861655</td>\n",
       "    </tr>\n",
       "    <tr>\n",
       "      <th>min</th>\n",
       "      <td>0.000000</td>\n",
       "      <td>1.000000</td>\n",
       "      <td>0.000000</td>\n",
       "      <td>0.000000</td>\n",
       "      <td>0.000000</td>\n",
       "      <td>0.000000</td>\n",
       "      <td>0.000000</td>\n",
       "      <td>1.000000</td>\n",
       "    </tr>\n",
       "    <tr>\n",
       "      <th>25%</th>\n",
       "      <td>36.000000</td>\n",
       "      <td>1.000000</td>\n",
       "      <td>0.000000</td>\n",
       "      <td>0.000000</td>\n",
       "      <td>0.000000</td>\n",
       "      <td>0.000000</td>\n",
       "      <td>0.000000</td>\n",
       "      <td>1.000000</td>\n",
       "    </tr>\n",
       "    <tr>\n",
       "      <th>50%</th>\n",
       "      <td>117.000000</td>\n",
       "      <td>2.000000</td>\n",
       "      <td>0.000000</td>\n",
       "      <td>0.000000</td>\n",
       "      <td>0.000000</td>\n",
       "      <td>1.000000</td>\n",
       "      <td>1.000000</td>\n",
       "      <td>2.000000</td>\n",
       "    </tr>\n",
       "    <tr>\n",
       "      <th>75%</th>\n",
       "      <td>313.000000</td>\n",
       "      <td>3.000000</td>\n",
       "      <td>0.000000</td>\n",
       "      <td>1.000000</td>\n",
       "      <td>0.000000</td>\n",
       "      <td>2.000000</td>\n",
       "      <td>1.000000</td>\n",
       "      <td>2.000000</td>\n",
       "    </tr>\n",
       "    <tr>\n",
       "      <th>max</th>\n",
       "      <td>5226.000000</td>\n",
       "      <td>91.000000</td>\n",
       "      <td>7.000000</td>\n",
       "      <td>36.000000</td>\n",
       "      <td>7.000000</td>\n",
       "      <td>49.000000</td>\n",
       "      <td>40.000000</td>\n",
       "      <td>22.000000</td>\n",
       "    </tr>\n",
       "  </tbody>\n",
       "</table>\n",
       "</div>"
      ],
      "text/plain": [
       "                 km       pessoas        mortos  feridos_leves  \\\n",
       "count  23122.000000  23122.000000  23122.000000   23122.000000   \n",
       "mean     366.248594      2.245567      0.066430       0.622611   \n",
       "std      750.126757      1.571689      0.286057       0.925467   \n",
       "min        0.000000      1.000000      0.000000       0.000000   \n",
       "25%       36.000000      1.000000      0.000000       0.000000   \n",
       "50%      117.000000      2.000000      0.000000       0.000000   \n",
       "75%      313.000000      3.000000      0.000000       1.000000   \n",
       "max     5226.000000     91.000000      7.000000      36.000000   \n",
       "\n",
       "       feridos_graves        ilesos       feridos      veiculos  \n",
       "count    23122.000000  23122.000000  23122.000000  23122.000000  \n",
       "mean         0.252054      1.100337      0.874665      1.783496  \n",
       "std          0.554734      1.301708      1.051356      0.861655  \n",
       "min          0.000000      0.000000      0.000000      1.000000  \n",
       "25%          0.000000      0.000000      0.000000      1.000000  \n",
       "50%          0.000000      1.000000      1.000000      2.000000  \n",
       "75%          0.000000      2.000000      1.000000      2.000000  \n",
       "max          7.000000     49.000000     40.000000     22.000000  "
      ]
     },
     "execution_count": 56,
     "metadata": {},
     "output_type": "execute_result"
    }
   ],
   "source": [
    "dataset = dataset.drop([\"id\", \"horario\", \"causa_acidente\", \"uf\", \"Nome da Origem\", \"br\", \"municipio\", \"ano\", \"ignorados\"], axis=1)\n",
    "dataset['dia_semana'] = dataset['dia_semana'].apply(\n",
    "    lambda x: 'Segunda' if 'segunda' in x.lower() else\n",
    "              'Terça' if 'terça' in x.lower() else\n",
    "              'Quarta' if 'quarta' in x.lower() else\n",
    "              'Quinta' if 'quinta' in x.lower() else\n",
    "              'Sexta' if 'sexta' in x.lower() else\n",
    "              'Sábado' if 'sábado' in x.lower() else\n",
    "              'Domingo' if 'domingo' in x.lower() else x\n",
    ")\n",
    "\n",
    "#Arrumando os dados para melhor visualizar.\n",
    "\n",
    "dataset.describe()"
   ]
  },
  {
   "cell_type": "code",
   "execution_count": 57,
   "id": "91acb598",
   "metadata": {},
   "outputs": [
    {
     "data": {
      "text/plain": [
       "<Axes: >"
      ]
     },
     "execution_count": 57,
     "metadata": {},
     "output_type": "execute_result"
    },
    {
     "data": {
      "image/png": "[encoded data removed]",
      "text/plain": [
       "<Figure size 640x480 with 1 Axes>"
      ]
     },
     "metadata": {},
     "output_type": "display_data"
    }
   ],
   "source": [
    "sns.boxplot(data=dataset[[\"feridos\",\"mortos\"]])"
   ]
  },
  {
   "cell_type": "code",
   "execution_count": 58,
   "id": "7cdc0085",
   "metadata": {},
   "outputs": [
    {
     "data": {
      "text/html": [
       "<div>\n",
       "<style scoped>\n",
       "    .dataframe tbody tr th:only-of-type {\n",
       "        vertical-align: middle;\n",
       "    }\n",
       "\n",
       "    .dataframe tbody tr th {\n",
       "        vertical-align: top;\n",
       "    }\n",
       "\n",
       "    .dataframe thead th {\n",
       "        text-align: right;\n",
       "    }\n",
       "</style>\n",
       "<table border=\"1\" class=\"dataframe\">\n",
       "  <thead>\n",
       "    <tr style=\"text-align: right;\">\n",
       "      <th></th>\n",
       "      <th>feridos_leves</th>\n",
       "      <th>feridos_graves</th>\n",
       "    </tr>\n",
       "  </thead>\n",
       "  <tbody>\n",
       "    <tr>\n",
       "      <th>feridos_leves</th>\n",
       "      <td>1.000000</td>\n",
       "      <td>-0.057335</td>\n",
       "    </tr>\n",
       "    <tr>\n",
       "      <th>feridos_graves</th>\n",
       "      <td>-0.057335</td>\n",
       "      <td>1.000000</td>\n",
       "    </tr>\n",
       "  </tbody>\n",
       "</table>\n",
       "</div>"
      ],
      "text/plain": [
       "                feridos_leves  feridos_graves\n",
       "feridos_leves        1.000000       -0.057335\n",
       "feridos_graves      -0.057335        1.000000"
      ]
     },
     "execution_count": 58,
     "metadata": {},
     "output_type": "execute_result"
    }
   ],
   "source": [
    "dataset[[\"feridos_leves\", \"feridos_graves\"]].corr()"
   ]
  },
  {
   "cell_type": "code",
   "execution_count": 59,
   "id": "4f580c6f",
   "metadata": {},
   "outputs": [
    {
     "data": {
      "text/html": [
       "<div>\n",
       "<style scoped>\n",
       "    .dataframe tbody tr th:only-of-type {\n",
       "        vertical-align: middle;\n",
       "    }\n",
       "\n",
       "    .dataframe tbody tr th {\n",
       "        vertical-align: top;\n",
       "    }\n",
       "\n",
       "    .dataframe thead th {\n",
       "        text-align: right;\n",
       "    }\n",
       "</style>\n",
       "<table border=\"1\" class=\"dataframe\">\n",
       "  <thead>\n",
       "    <tr style=\"text-align: right;\">\n",
       "      <th></th>\n",
       "      <th>feridos</th>\n",
       "      <th>mortos</th>\n",
       "    </tr>\n",
       "  </thead>\n",
       "  <tbody>\n",
       "    <tr>\n",
       "      <th>feridos</th>\n",
       "      <td>1.00000</td>\n",
       "      <td>-0.00611</td>\n",
       "    </tr>\n",
       "    <tr>\n",
       "      <th>mortos</th>\n",
       "      <td>-0.00611</td>\n",
       "      <td>1.00000</td>\n",
       "    </tr>\n",
       "  </tbody>\n",
       "</table>\n",
       "</div>"
      ],
      "text/plain": [
       "         feridos   mortos\n",
       "feridos  1.00000 -0.00611\n",
       "mortos  -0.00611  1.00000"
      ]
     },
     "execution_count": 59,
     "metadata": {},
     "output_type": "execute_result"
    }
   ],
   "source": [
    "dataset[[\"feridos\", \"mortos\"]].corr()"
   ]
  },
  {
   "cell_type": "code",
   "execution_count": 60,
   "id": "0662db5b",
   "metadata": {},
   "outputs": [
    {
     "data": {
      "text/html": [
       "<div>\n",
       "<style scoped>\n",
       "    .dataframe tbody tr th:only-of-type {\n",
       "        vertical-align: middle;\n",
       "    }\n",
       "\n",
       "    .dataframe tbody tr th {\n",
       "        vertical-align: top;\n",
       "    }\n",
       "\n",
       "    .dataframe thead th {\n",
       "        text-align: right;\n",
       "    }\n",
       "</style>\n",
       "<table border=\"1\" class=\"dataframe\">\n",
       "  <thead>\n",
       "    <tr style=\"text-align: right;\">\n",
       "      <th></th>\n",
       "      <th>ilesos</th>\n",
       "      <th>mortos</th>\n",
       "    </tr>\n",
       "  </thead>\n",
       "  <tbody>\n",
       "    <tr>\n",
       "      <th>ilesos</th>\n",
       "      <td>1.000000</td>\n",
       "      <td>-0.071796</td>\n",
       "    </tr>\n",
       "    <tr>\n",
       "      <th>mortos</th>\n",
       "      <td>-0.071796</td>\n",
       "      <td>1.000000</td>\n",
       "    </tr>\n",
       "  </tbody>\n",
       "</table>\n",
       "</div>"
      ],
      "text/plain": [
       "          ilesos    mortos\n",
       "ilesos  1.000000 -0.071796\n",
       "mortos -0.071796  1.000000"
      ]
     },
     "execution_count": 60,
     "metadata": {},
     "output_type": "execute_result"
    }
   ],
   "source": [
    "dataset[[\"ilesos\", \"mortos\"]].corr()"
   ]
  },
  {
   "cell_type": "markdown",
   "id": "dd4c807c",
   "metadata": {},
   "source": [
    "Seção de Visualização: Histograma, Gráfico de Dispersão e Gráfico de Barra/Linha."
   ]
  },
  {
   "cell_type": "code",
   "execution_count": 61,
   "id": "e7c21002",
   "metadata": {},
   "outputs": [
    {
     "data": {
      "text/plain": [
       "<Axes: ylabel='Count'>"
      ]
     },
     "execution_count": 61,
     "metadata": {},
     "output_type": "execute_result"
    },
    {
     "data": {
      "image/png": "[encoded data removed]",
      "text/plain": [
       "<Figure size 640x480 with 1 Axes>"
      ]
     },
     "metadata": {},
     "output_type": "display_data"
    }
   ],
   "source": [
    "sns.histplot(data=dataset[[\"feridos\", \"mortos\"]])\n",
    "#Frequencia de feridos e mortos por acidente.\n",
    "#Na maioria dos acidentes, ninguém se fere ou morre."
   ]
  },
  {
   "cell_type": "code",
   "execution_count": 62,
   "id": "4e33b009",
   "metadata": {},
   "outputs": [
    {
     "data": {
      "text/plain": [
       "<Axes: xlabel='veiculos', ylabel='feridos'>"
      ]
     },
     "execution_count": 62,
     "metadata": {},
     "output_type": "execute_result"
    },
    {
     "data": {
      "image/png": "[encoded data removed]",
      "text/plain": [
       "<Figure size 640x480 with 1 Axes>"
      ]
     },
     "metadata": {},
     "output_type": "display_data"
    }
   ],
   "source": [
    "sns.scatterplot(x='veiculos', y='feridos', data=dataset)\n",
    "#Vendo se há alguma relação entre a quantidade de veículos envolvidos e a quantidade de feridos.\n"
   ]
  },
  {
   "cell_type": "code",
   "execution_count": 63,
   "id": "cb95a61c",
   "metadata": {},
   "outputs": [
    {
     "data": {
      "image/png": "[encoded data removed]",
      "text/plain": [
       "<Figure size 640x480 with 1 Axes>"
      ]
     },
     "metadata": {},
     "output_type": "display_data"
    }
   ],
   "source": [
    "sns.countplot(x='dia_semana', data=dataset)\n",
    "\n",
    "plt.title('Contagem de acidentes por Dia da Semana')\n",
    "plt.xlabel('Dia da Semana')\n",
    "plt.ylabel('Número de Acidentes')\n",
    "\n",
    "plt.xticks(rotation=45)\n",
    "plt.show()\n",
    "\n",
    "#Qual dia da semana tem mais acidentes."
   ]
  }
 ],
 "metadata": {
  "kernelspec": {
   "display_name": "Python 3",
   "language": "python",
   "name": "python3"
  },
  "language_info": {
   "codemirror_mode": {
    "name": "ipython",
    "version": 3
   },
   "file_extension": ".py",
   "mimetype": "text/x-python",
   "name": "python",
   "nbconvert_exporter": "python",
   "pygments_lexer": "ipython3",
   "version": "3.12.4"
  }
 },
 "nbformat": 4,
 "nbformat_minor": 5
}
