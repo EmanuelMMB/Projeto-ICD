{
 "cells": [
  {
   "cell_type": "code",
   "execution_count": 2,
   "id": "740efde6-6351-4bcd-a245-03cfe2e2952b",
   "metadata": {},
   "outputs": [],
   "source": [
    "# Importando o Pandas, o Dataset, o Seaborn, CSV pra ler o Dataset, e o Numpy. -- EM.\n",
    "import pandas as pd\n",
    "import csv\n",
    "import numpy as np\n",
    "import seaborn as sns\n",
    "\n",
    "dataset = pd.read_csv(\"https://raw.githubusercontent.com/EmanuelMMB/Projeto-ICD/main/datatranPB.csv\", sep =\";\")"
   ]
  },
  {
   "cell_type": "code",
   "execution_count": 3,
   "id": "efd1b7d7",
   "metadata": {},
   "outputs": [
    {
     "data": {
      "text/html": [
       "<div>\n",
       "<style scoped>\n",
       "    .dataframe tbody tr th:only-of-type {\n",
       "        vertical-align: middle;\n",
       "    }\n",
       "\n",
       "    .dataframe tbody tr th {\n",
       "        vertical-align: top;\n",
       "    }\n",
       "\n",
       "    .dataframe thead th {\n",
       "        text-align: right;\n",
       "    }\n",
       "</style>\n",
       "<table border=\"1\" class=\"dataframe\">\n",
       "  <thead>\n",
       "    <tr style=\"text-align: right;\">\n",
       "      <th></th>\n",
       "      <th>Nome da Origem;id;data_inversa;dia_semana;horario;uf;br;km;municipio;causa_acidente;tipo_acidente;classificacao_acidente;fase_dia;sentido_via;condicao_metereologica;tipo_pista;tracado_via;uso_solo;ano;pessoas;mortos;feridos_leves;feridos_graves;ilesos;ignorados;feridos;veiculos</th>\n",
       "    </tr>\n",
       "  </thead>\n",
       "  <tbody>\n",
       "    <tr>\n",
       "      <th>0</th>\n",
       "      <td>datatran2013.csv;1228868;01/01/2013;Terça;00:1...</td>\n",
       "    </tr>\n",
       "    <tr>\n",
       "      <th>1</th>\n",
       "      <td>datatran2013.csv;1228898;01/01/2013;Terça;03:3...</td>\n",
       "    </tr>\n",
       "    <tr>\n",
       "      <th>2</th>\n",
       "      <td>datatran2013.csv;1228977;01/01/2013;Terça;08:2...</td>\n",
       "    </tr>\n",
       "    <tr>\n",
       "      <th>3</th>\n",
       "      <td>datatran2013.csv;1229043;01/01/2013;Terça;02:4...</td>\n",
       "    </tr>\n",
       "    <tr>\n",
       "      <th>4</th>\n",
       "      <td>datatran2013.csv;1229088;01/01/2013;Terça;07:2...</td>\n",
       "    </tr>\n",
       "  </tbody>\n",
       "</table>\n",
       "</div>"
      ],
      "text/plain": [
       "  Nome da Origem;id;data_inversa;dia_semana;horario;uf;br;km;municipio;causa_acidente;tipo_acidente;classificacao_acidente;fase_dia;sentido_via;condicao_metereologica;tipo_pista;tracado_via;uso_solo;ano;pessoas;mortos;feridos_leves;feridos_graves;ilesos;ignorados;feridos;veiculos\n",
       "0  datatran2013.csv;1228868;01/01/2013;Terça;00:1...                                                                                                                                                                                                                                    \n",
       "1  datatran2013.csv;1228898;01/01/2013;Terça;03:3...                                                                                                                                                                                                                                    \n",
       "2  datatran2013.csv;1228977;01/01/2013;Terça;08:2...                                                                                                                                                                                                                                    \n",
       "3  datatran2013.csv;1229043;01/01/2013;Terça;02:4...                                                                                                                                                                                                                                    \n",
       "4  datatran2013.csv;1229088;01/01/2013;Terça;07:2...                                                                                                                                                                                                                                    "
      ]
     },
     "execution_count": 3,
     "metadata": {},
     "output_type": "execute_result"
    }
   ],
   "source": [
    "dataset.head()"
   ]
  }
 ],
 "metadata": {
  "kernelspec": {
   "display_name": "Python 3",
   "language": "python",
   "name": "python3"
  },
  "language_info": {
   "codemirror_mode": {
    "name": "ipython",
    "version": 3
   },
   "file_extension": ".py",
   "mimetype": "text/x-python",
   "name": "python",
   "nbconvert_exporter": "python",
   "pygments_lexer": "ipython3",
   "version": "3.12.4"
  }
 },
 "nbformat": 4,
 "nbformat_minor": 5
}
