{
 "cells": [
  {
   "cell_type": "code",
   "execution_count": 2,
   "id": "740efde6-6351-4bcd-a245-03cfe2e2952b",
   "metadata": {},
   "outputs": [],
   "source": [
    "# Importando o Pandas e o Dataset. -- EM.\n",
    "import pandas as pd\n",
    "\n",
    "dataset = pd.read_csv(\"https://raw.githubusercontent.com/EmanuelMMB/Projeto-ICD/main/datatranPB.csv?token=GHSAT0AAAAAACWYFRWWLPFEJCCJAHH2M2QEZXIFYBA\")"
   ]
  },
  {
   "cell_type": "code",
   "execution_count": null,
   "id": "c5c905ec",
   "metadata": {},
   "outputs": [],
   "source": []
  }
 ],
 "metadata": {
  "kernelspec": {
   "display_name": "Python 3",
   "language": "python",
   "name": "python3"
  },
  "language_info": {
   "codemirror_mode": {
    "name": "ipython",
    "version": 3
   },
   "file_extension": ".py",
   "mimetype": "text/x-python",
   "name": "python",
   "nbconvert_exporter": "python",
   "pygments_lexer": "ipython3",
   "version": "3.12.4"
  }
 },
 "nbformat": 4,
 "nbformat_minor": 5
}
